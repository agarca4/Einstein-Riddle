{
 "cells": [
  {
   "cell_type": "markdown",
   "metadata": {},
   "source": [
    "# Einstein's Riddle en Neo4j con Python"
   ]
  },
  {
   "cell_type": "code",
   "execution_count": 1,
   "metadata": {
    "collapsed": false,
    "jupyter": {
     "outputs_hidden": false
    }
   },
   "outputs": [
    {
     "name": "stdout",
     "output_type": "stream",
     "text": [
      "2021.2.0\n"
     ]
    }
   ],
   "source": [
    "import py2neo \n",
    "print(py2neo.__version__)"
   ]
  },
  {
   "cell_type": "markdown",
   "metadata": {},
   "source": [
    "## Connect\n",
    "Connect to Neo4j with the Graph class."
   ]
  },
  {
   "cell_type": "code",
   "execution_count": 3,
   "metadata": {},
   "outputs": [],
   "source": [
    "from py2neo import Graph\n",
    "\n",
    "graph = Graph()"
   ]
  },
  {
   "cell_type": "code",
   "execution_count": 78,
   "metadata": {},
   "outputs": [],
   "source": [
    "graph.delete_all()"
   ]
  },
  {
   "cell_type": "markdown",
   "metadata": {},
   "source": [
    "## De una lectura de todas las pistas del acertijo se extrae las posiciones las casa, de modo que voy a crear los nodos ya con este atributo en las casas"
   ]
  },
  {
   "cell_type": "code",
   "execution_count": 6,
   "metadata": {},
   "outputs": [],
   "source": [
    "from py2neo import Node"
   ]
  },
  {
   "cell_type": "code",
   "execution_count": 79,
   "metadata": {},
   "outputs": [],
   "source": [
    "\n",
    "englishman = Node(\"Person\", name=\"Englishman\")\n",
    "swede = Node(\"Person\", name=\"Swede\")\n",
    "dane = Node(\"Person\", name=\"Dane\")\n",
    "norwegian = Node(\"Person\", name=\"Norwegian\")\n",
    "german = Node(\"Person\", name=\"German\")\n",
    "\n",
    "red_house = Node(\"House\", name = \"Red_house\", position = \"third\")\n",
    "blue_house = Node(\"House\", name = \"Blue_house\", position = \"second\")\n",
    "green_house = Node(\"House\", name = \"Green_house\", position = \"fourth\" )\n",
    "white_house = Node(\"House\", name = \"White_house\", position = \"fifth\")\n",
    "yellow_house = Node(\"House\", name = \"Yellow_house\", position = \"first\")\n",
    "\n",
    "dog = Node(\"Pet\", name = \"Dog\")\n",
    "birds = Node(\"Pet\", name = \"Birds\")\n",
    "cat = Node(\"Pet\", name = \"Cat\")\n",
    "horse = Node(\"Pet\", name = \"Horse\")\n",
    "fish = Node(\"Pet\", name = \"Fish\")\n",
    "\n",
    "tea = Node(\"Drink\", name = \"Tea\")\n",
    "coffee = Node(\"Drink\", name = \"Coffee\")\n",
    "milk = Node(\"Drink\", name = \"Milk\")\n",
    "beer = Node(\"Drink\", name = \"Beer\")\n",
    "water = Node(\"Drink\", name = \"Water\")\n",
    "\n",
    "prince = Node(\"Tobacco\", name = \"Prince\")\n",
    "pall_mall = Node(\"Tobacco\", name = \"Pall_Mall\")\n",
    "durnhill = Node(\"Tobacco\", name = \"Durnhill\")\n",
    "blends = Node(\"Tobacco\", name = \"Blends\")\n",
    "bluemaster = Node(\"Tobacco\", name = \"Bluemaster\")\n",
    "\n",
    "graph.create(englishman | swede | dane | norwegian | german | red_house | blue_house | green_house | \n",
    "             white_house | yellow_house | dog | birds | cat | horse | fish | tea | coffee | milk | \n",
    "             beer | water | prince | pall_mall |durnhill |blends | bluemaster)"
   ]
  },
  {
   "cell_type": "markdown",
   "metadata": {},
   "source": [
    "## Visualization"
   ]
  },
  {
   "cell_type": "code",
   "execution_count": 54,
   "metadata": {},
   "outputs": [
    {
     "data": {
      "text/html": [
       "<script src=\"https://cdnjs.cloudflare.com/ajax/libs/require.js/2.3.6/require.js\"></script>\n"
      ],
      "text/plain": [
       "<IPython.core.display.HTML object>"
      ]
     },
     "metadata": {},
     "output_type": "display_data"
    }
   ],
   "source": [
    "%%HTML\n",
    "<script src=\"https://cdnjs.cloudflare.com/ajax/libs/require.js/2.3.6/require.js\"></script>"
   ]
  },
  {
   "cell_type": "code",
   "execution_count": 55,
   "metadata": {},
   "outputs": [
    {
     "data": {
      "application/javascript": [
       "var link = document.createElement(\"link\");\n",
       "\tlink.ref = \"stylesheet\";\n",
       "\tlink.type = \"text/css\";\n",
       "\tlink.href = \"https://cdnjs.cloudflare.com/ajax/libs/vis/4.8.2/vis.css\";\n",
       "\tdocument.head.appendChild(link);\n",
       "require.config({     paths: {         vis: '//cdnjs.cloudflare.com/ajax/libs/vis/4.8.2/vis.min'     } }); require(['vis'], function(vis) {  window.vis = vis; }); "
      ],
      "text/plain": [
       "<IPython.core.display.Javascript object>"
      ]
     },
     "metadata": {},
     "output_type": "display_data"
    }
   ],
   "source": [
    "import neo4jupyter\n",
    "neo4jupyter.init_notebook_mode()"
   ]
  },
  {
   "cell_type": "code",
   "execution_count": 73,
   "metadata": {},
   "outputs": [
    {
     "data": {
      "text/html": [
       "<div id=\"62d19504-9194-4928-8ae7-b947b600b6fd\" style=\"height: 400px;\"></div>\n",
       "\n",
       "<script type=\"text/javascript\">\n",
       "\n",
       "    var nodes = [{\"id\": 113, \"label\": \"Durnhill\", \"group\": \"Tobacco\", \"title\": \"Node('Tobacco', name='Durnhill')\"}, {\"id\": 43, \"label\": \"Cat\", \"group\": \"Pet\", \"title\": \"Node('Pet', name='Cat')\"}, {\"id\": 101, \"label\": \"German\", \"group\": \"Person\", \"title\": \"Node('Person', name='German')\"}, {\"id\": 100, \"label\": \"Dane\", \"group\": \"Person\", \"title\": \"Node('Person', name='Dane')\"}, {\"id\": 92, \"label\": \"Red_house\", \"group\": \"House\", \"title\": \"Node('House', name='Red_house', position='third')\"}, {\"id\": 91, \"label\": \"Yellow_house\", \"group\": \"House\", \"title\": \"Node('House', name='Yellow_house', position='first')\"}, {\"id\": 86, \"label\": \"Tea\", \"group\": \"Drink\", \"title\": \"Node('Drink', name='Tea')\"}, {\"id\": 99, \"label\": \"Englishman\", \"group\": \"Person\", \"title\": \"Node('Person', name='Englishman')\"}, {\"id\": 111, \"label\": \"Blends\", \"group\": \"Tobacco\", \"title\": \"Node('Tobacco', name='Blends')\"}, {\"id\": 88, \"label\": \"Water\", \"group\": \"Drink\", \"title\": \"Node('Drink', name='Water')\"}, {\"id\": 102, \"label\": \"Norwegian\", \"group\": \"Person\", \"title\": \"Node('Person', name='Norwegian')\"}, {\"id\": 90, \"label\": \"White_house\", \"group\": \"House\", \"title\": \"Node('House', name='White_house', position='fifth')\"}, {\"id\": 93, \"label\": \"Blue_house\", \"group\": \"House\", \"title\": \"Node('House', name='Blue_house', position='second')\"}, {\"id\": 89, \"label\": \"Green_house\", \"group\": \"House\", \"title\": \"Node('House', name='Green_house', position='fourth')\"}, {\"id\": 40, \"label\": \"Dog\", \"group\": \"Pet\", \"title\": \"Node('Pet', name='Dog')\"}, {\"id\": 41, \"label\": \"Fish\", \"group\": \"Pet\", \"title\": \"Node('Pet', name='Fish')\"}, {\"id\": 42, \"label\": \"Birds\", \"group\": \"Pet\", \"title\": \"Node('Pet', name='Birds')\"}, {\"id\": 112, \"label\": \"Bluemaster\", \"group\": \"Tobacco\", \"title\": \"Node('Tobacco', name='Bluemaster')\"}, {\"id\": 84, \"label\": \"Milk\", \"group\": \"Drink\", \"title\": \"Node('Drink', name='Milk')\"}, {\"id\": 103, \"label\": \"Swede\", \"group\": \"Person\", \"title\": \"Node('Person', name='Swede')\"}, {\"id\": 109, \"label\": \"Prince\", \"group\": \"Tobacco\", \"title\": \"Node('Tobacco', name='Prince')\"}, {\"id\": 110, \"label\": \"Pall_Mall\", \"group\": \"Tobacco\", \"title\": \"Node('Tobacco', name='Pall_Mall')\"}, {\"id\": 85, \"label\": \"Coffee\", \"group\": \"Drink\", \"title\": \"Node('Drink', name='Coffee')\"}, {\"id\": 44, \"label\": \"Horse\", \"group\": \"Pet\", \"title\": \"Node('Pet', name='Horse')\"}, {\"id\": 87, \"label\": \"Beer\", \"group\": \"Drink\", \"title\": \"Node('Drink', name='Beer')\"}];\n",
       "    var edges = [];\n",
       "\n",
       "    var container = document.getElementById(\"62d19504-9194-4928-8ae7-b947b600b6fd\");\n",
       "\n",
       "    var data = {\n",
       "        nodes: nodes,\n",
       "        edges: edges\n",
       "    };\n",
       "\n",
       "    var options = {\n",
       "    nodes: {\n",
       "        shape: 'dot',\n",
       "        size: 25,\n",
       "        font: {\n",
       "            size: 14\n",
       "        }\n",
       "    },\n",
       "    edges: {\n",
       "        font: {\n",
       "            size: 14,\n",
       "            align: 'middle'\n",
       "        },\n",
       "        color: 'gray',\n",
       "        arrows: {\n",
       "            to: {\n",
       "                enabled: true,\n",
       "                scaleFactor: 0.5\n",
       "            }\n",
       "        },\n",
       "        smooth: {\n",
       "            enabled: false\n",
       "        }\n",
       "    },\n",
       "    physics: {\n",
       "        enabled: true\n",
       "        }\n",
       "    };\n",
       "\n",
       "    var network = new vis.Network(container, data, options);\n",
       "\n",
       "</script>\n"
      ],
      "text/plain": [
       "<IPython.core.display.HTML object>"
      ]
     },
     "execution_count": 73,
     "metadata": {},
     "output_type": "execute_result"
    }
   ],
   "source": [
    "options = {\"Person\": \"name\", \"Drink\": \"name\", \"Pet\": \"name\", \"House\": \"name\", \"Tobacco\": \"name\"}\n",
    "\n",
    "neo4jupyter.draw(graph, options)"
   ]
  },
  {
   "cell_type": "markdown",
   "metadata": {},
   "source": [
    "-\n",
    "-\n",
    "-\n",
    "-\n",
    "-\n",
    "-\n",
    "-\n",
    "-\n",
    "-\n",
    "-\n",
    "-\n",
    "-\n",
    "-\n",
    "-\n",
    "-\n",
    "-\n",
    "-\n",
    "-\n",
    "-\n",
    "-\n",
    "-\n",
    "-\n",
    "-\n",
    "-\n",
    "-\n",
    "-\n",
    "-\n",
    "-\n",
    "-\n",
    "-\n",
    "-\n",
    "-\n",
    "-\n",
    "-\n",
    "-\n",
    "-"
   ]
  },
  {
   "cell_type": "markdown",
   "metadata": {},
   "source": [
    "## Me centro ahora en las relaciones, despues iré añadiendo más según vaya deduciendo más pistas:"
   ]
  },
  {
   "cell_type": "code",
   "execution_count": 74,
   "metadata": {},
   "outputs": [],
   "source": [
    "from py2neo import Relationship\n",
    "\n",
    "rel_englishman_red_house = Relationship(englishman, \"LIVES\", red_house)\n",
    "rel_swede_dog = Relationship(swede, \"HAS\", dog)\n",
    "rel_dane_tea = Relationship(dane, \"DRINKS\", tea)\n",
    "rel_norwegian_yellow_house = Relationship(norwegian, \"LIVES\", yellow_house)\n",
    "rel_german_prince = Relationship(german, \"SMOKES\", prince)\n",
    "rel_green_house_white_house = Relationship(green_house, \"IS TO THE LEFT\", white_house)\n",
    "rel_green_house_coffee = Relationship(green_house, \"SAME PERSON LINKED\", coffee)\n",
    "rel_pall_mall_birds = Relationship(pall_mall, \"SAME PERSON LINKED\", birds)\n",
    "rel_yellow_house_durnhill = Relationship(yellow_house, \"SAME PERSON LINKED\", durnhill)\n",
    "rel_blends_cat = Relationship(blends, \"SMOKER LIVES NEXT DOOR\", cat)\n",
    "rel_horse_durnhill = Relationship(horse, \"LIVES NEXT DOOR THE SMOKER\",durnhill)\n",
    "rel_bluemaster_beer = Relationship(bluemaster, \"SAME PERSON LINKED\", beer)\n",
    "rel_blends_water = Relationship(blends, \"USED BY NEIGHBOR\", water)\n",
    "rel_red_house_milk = Relationship(red_house, \"SAME PERSON LINKED\", milk)\n",
    "\n",
    "\n",
    "\n",
    "graph.create(rel_englishman_red_house | rel_swede_dog |rel_dane_tea | \n",
    "             rel_norwegian_yellow_house | rel_german_prince | rel_green_house_white_house\n",
    "            |rel_green_house_coffee|rel_pall_mall_birds | rel_yellow_house_durnhill | rel_bluemaster_beer \n",
    "            | rel_blends_cat | rel_horse_durnhill | rel_blends_water | rel_red_house_milk)"
   ]
  },
  {
   "cell_type": "code",
   "execution_count": 75,
   "metadata": {},
   "outputs": [
    {
     "data": {
      "text/html": [
       "<div id=\"71308e68-c59a-45b7-b270-8e6d2dc5d007\" style=\"height: 400px;\"></div>\n",
       "\n",
       "<script type=\"text/javascript\">\n",
       "\n",
       "    var nodes = [{\"id\": 40, \"label\": \"Dog\", \"group\": \"Pet\", \"title\": \"Node('Pet', name='Dog')\"}, {\"id\": 43, \"label\": \"Cat\", \"group\": \"Pet\", \"title\": \"Node('Pet', name='Cat')\"}, {\"id\": 109, \"label\": \"Prince\", \"group\": \"Tobacco\", \"title\": \"Node('Tobacco', name='Prince')\"}, {\"id\": 103, \"label\": \"Swede\", \"group\": \"Person\", \"title\": \"Node('Person', name='Swede')\"}, {\"id\": 101, \"label\": \"German\", \"group\": \"Person\", \"title\": \"Node('Person', name='German')\"}, {\"id\": 112, \"label\": \"Bluemaster\", \"group\": \"Tobacco\", \"title\": \"Node('Tobacco', name='Bluemaster')\"}, {\"id\": 87, \"label\": \"Beer\", \"group\": \"Drink\", \"title\": \"Node('Drink', name='Beer')\"}, {\"id\": 111, \"label\": \"Blends\", \"group\": \"Tobacco\", \"title\": \"Node('Tobacco', name='Blends')\"}, {\"id\": 88, \"label\": \"Water\", \"group\": \"Drink\", \"title\": \"Node('Drink', name='Water')\"}, {\"id\": 99, \"label\": \"Englishman\", \"group\": \"Person\", \"title\": \"Node('Person', name='Englishman')\"}, {\"id\": 92, \"label\": \"Red_house\", \"group\": \"House\", \"title\": \"Node('House', name='Red_house', position='third')\"}, {\"id\": 84, \"label\": \"Milk\", \"group\": \"Drink\", \"title\": \"Node('Drink', name='Milk')\"}, {\"id\": 91, \"label\": \"Yellow_house\", \"group\": \"House\", \"title\": \"Node('House', name='Yellow_house', position='first')\"}, {\"id\": 113, \"label\": \"Durnhill\", \"group\": \"Tobacco\", \"title\": \"Node('Tobacco', name='Durnhill')\"}, {\"id\": 93, \"label\": \"Blue_house\", \"group\": \"House\", \"title\": \"Node('House', name='Blue_house', position='second')\"}, {\"id\": 110, \"label\": \"Pall_Mall\", \"group\": \"Tobacco\", \"title\": \"Node('Tobacco', name='Pall_Mall')\"}, {\"id\": 42, \"label\": \"Birds\", \"group\": \"Pet\", \"title\": \"Node('Pet', name='Birds')\"}, {\"id\": 41, \"label\": \"Fish\", \"group\": \"Pet\", \"title\": \"Node('Pet', name='Fish')\"}, {\"id\": 90, \"label\": \"White_house\", \"group\": \"House\", \"title\": \"Node('House', name='White_house', position='fifth')\"}, {\"id\": 86, \"label\": \"Tea\", \"group\": \"Drink\", \"title\": \"Node('Drink', name='Tea')\"}, {\"id\": 44, \"label\": \"Horse\", \"group\": \"Pet\", \"title\": \"Node('Pet', name='Horse')\"}, {\"id\": 100, \"label\": \"Dane\", \"group\": \"Person\", \"title\": \"Node('Person', name='Dane')\"}, {\"id\": 85, \"label\": \"Coffee\", \"group\": \"Drink\", \"title\": \"Node('Drink', name='Coffee')\"}, {\"id\": 102, \"label\": \"Norwegian\", \"group\": \"Person\", \"title\": \"Node('Person', name='Norwegian')\"}, {\"id\": 89, \"label\": \"Green_house\", \"group\": \"House\", \"title\": \"Node('House', name='Green_house', position='fourth')\"}];\n",
       "    var edges = [{\"from\": 103, \"to\": 40, \"label\": \"HAS\"}, {\"from\": 101, \"to\": 109, \"label\": \"SMOKES\"}, {\"from\": 112, \"to\": 87, \"label\": \"SAME PERSON LINKED\"}, {\"from\": 111, \"to\": 43, \"label\": \"SMOKER LIVES NEXT DOOR\"}, {\"from\": 111, \"to\": 88, \"label\": \"USED BY NEIGHBOR\"}, {\"from\": 99, \"to\": 92, \"label\": \"LIVES\"}, {\"from\": 91, \"to\": 113, \"label\": \"SAME PERSON LINKED\"}, {\"from\": 110, \"to\": 42, \"label\": \"SAME PERSON LINKED\"}, {\"from\": 92, \"to\": 84, \"label\": \"SAME PERSON LINKED\"}, {\"from\": 44, \"to\": 113, \"label\": \"LIVES NEXT DOOR THE SMOKER\"}, {\"from\": 100, \"to\": 86, \"label\": \"DRINKS\"}, {\"from\": 102, \"to\": 91, \"label\": \"LIVES\"}, {\"from\": 89, \"to\": 90, \"label\": \"IS TO THE LEFT\"}, {\"from\": 89, \"to\": 85, \"label\": \"SAME PERSON LINKED\"}];\n",
       "\n",
       "    var container = document.getElementById(\"71308e68-c59a-45b7-b270-8e6d2dc5d007\");\n",
       "\n",
       "    var data = {\n",
       "        nodes: nodes,\n",
       "        edges: edges\n",
       "    };\n",
       "\n",
       "    var options = {\n",
       "    nodes: {\n",
       "        shape: 'dot',\n",
       "        size: 25,\n",
       "        font: {\n",
       "            size: 14\n",
       "        }\n",
       "    },\n",
       "    edges: {\n",
       "        font: {\n",
       "            size: 14,\n",
       "            align: 'middle'\n",
       "        },\n",
       "        color: 'gray',\n",
       "        arrows: {\n",
       "            to: {\n",
       "                enabled: true,\n",
       "                scaleFactor: 0.5\n",
       "            }\n",
       "        },\n",
       "        smooth: {\n",
       "            enabled: false\n",
       "        }\n",
       "    },\n",
       "    physics: {\n",
       "        enabled: true\n",
       "        }\n",
       "    };\n",
       "\n",
       "    var network = new vis.Network(container, data, options);\n",
       "\n",
       "</script>\n"
      ],
      "text/plain": [
       "<IPython.core.display.HTML object>"
      ]
     },
     "execution_count": 75,
     "metadata": {},
     "output_type": "execute_result"
    }
   ],
   "source": [
    "neo4jupyter.draw(graph, options)"
   ]
  },
  {
   "cell_type": "markdown",
   "metadata": {},
   "source": [
    "## Ordenando y cruzando los datos de las relaciones conocidas y los nodos, el grafo queda de la siguiente forma:\n",
    "-\n",
    "-\n",
    "-\n",
    "-\n",
    "-\n",
    "-\n",
    "-\n",
    "-\n",
    "-\n",
    "-\n",
    "-\n",
    "-\n",
    "-\n",
    "-\n",
    "-\n",
    "-\n",
    "-\n",
    "-\n",
    "-\n",
    "-\n",
    "-\n",
    "-\n",
    "-\n",
    "-\n",
    "-\n",
    "-\n",
    "-\n",
    "-\n",
    "-\n",
    "-\n",
    "-\n",
    "-\n",
    "-\n",
    "-\n",
    "-\n",
    "-"
   ]
  },
  {
   "cell_type": "markdown",
   "metadata": {},
   "source": [
    "## Aunque ya se ha deducido que es el aleman quien tiene el pez, voy a establecer todas las relaciones, para generar el grafo completo"
   ]
  },
  {
   "cell_type": "code",
   "execution_count": 76,
   "metadata": {},
   "outputs": [],
   "source": [
    "\n",
    "rel_norwegian_yellow_house = Relationship(norwegian, \"LIVES\", yellow_house)\n",
    "rel_norwegian_water = Relationship(norwegian, \"DRINKS\", water)\n",
    "rel_norwegian_durnhill = Relationship(norwegian, \"SMOKES\", durnhill)\n",
    "rel_norwegian_cat = Relationship(norwegian, \"HAS\", cat)\n",
    "\n",
    "rel_dane_blue_house = Relationship(dane, \"LIVES\", blue_house)\n",
    "rel_dane_tea = Relationship(dane, \"DRINKS\", tea)\n",
    "rel_dane_durnhill = Relationship(dane, \"SMOKES\", blends)\n",
    "rel_dane_cat = Relationship(dane, \"HAS\", horse)\n",
    "\n",
    "rel_englishman_red_house = Relationship(englishman, \"LIVES\", red_house)\n",
    "rel_englishman_milk = Relationship(englishman, \"DRINKS\", milk)\n",
    "rel_englishman_pall_mall = Relationship(englishman, \"SMOKES\", pall_mall)\n",
    "rel_englishman_birds = Relationship(englishman, \"HAS\", birds)\n",
    "\n",
    "rel_german_green_house = Relationship(german, \"LIVES\", green_house)\n",
    "rel_german_coffee = Relationship(german, \"DRINKS\", coffee)\n",
    "rel_german_prince = Relationship(german, \"SMOKES\", prince)\n",
    "rel_german_fish = Relationship(german, \"HAS\", fish)\n",
    "\n",
    "rel_white_green_house = Relationship(swede, \"LIVES\", white_house)\n",
    "rel_swede_beer = Relationship(swede, \"DRINKS\", beer)\n",
    "rel_swede_bluemaster = Relationship(swede, \"SMOKES\", bluemaster)\n",
    "rel_swede_dog = Relationship(swede, \"HAS\", dog)\n",
    "\n",
    "\n",
    "graph.create(rel_norwegian_yellow_house |\n",
    "rel_norwegian_water |\n",
    "rel_norwegian_durnhill |\n",
    "rel_norwegian_cat |\n",
    "rel_dane_blue_house |\n",
    "rel_dane_tea |\n",
    "rel_dane_durnhill |\n",
    "rel_dane_cat |\n",
    "rel_englishman_red_house |\n",
    "rel_englishman_milk |\n",
    "rel_englishman_pall_mall |\n",
    "rel_englishman_birds |\n",
    "rel_german_green_house |\n",
    "rel_german_coffee |\n",
    "rel_german_prince |\n",
    "rel_german_fish |\n",
    "rel_white_green_house |\n",
    "rel_swede_beer |\n",
    "rel_swede_bluemaster |\n",
    "rel_swede_dog)\n"
   ]
  },
  {
   "cell_type": "code",
   "execution_count": 77,
   "metadata": {},
   "outputs": [
    {
     "data": {
      "text/html": [
       "<div id=\"7d39b48b-2a83-4698-87a2-11695c075396\" style=\"height: 400px;\"></div>\n",
       "\n",
       "<script type=\"text/javascript\">\n",
       "\n",
       "    var nodes = [{\"id\": 110, \"label\": \"Pall_Mall\", \"group\": \"Tobacco\", \"title\": \"Node('Tobacco', name='Pall_Mall')\"}, {\"id\": 42, \"label\": \"Birds\", \"group\": \"Pet\", \"title\": \"Node('Pet', name='Birds')\"}, {\"id\": 109, \"label\": \"Prince\", \"group\": \"Tobacco\", \"title\": \"Node('Tobacco', name='Prince')\"}, {\"id\": 40, \"label\": \"Dog\", \"group\": \"Pet\", \"title\": \"Node('Pet', name='Dog')\"}, {\"id\": 101, \"label\": \"German\", \"group\": \"Person\", \"title\": \"Node('Person', name='German')\"}, {\"id\": 41, \"label\": \"Fish\", \"group\": \"Pet\", \"title\": \"Node('Pet', name='Fish')\"}, {\"id\": 89, \"label\": \"Green_house\", \"group\": \"House\", \"title\": \"Node('House', name='Green_house', position='fourth')\"}, {\"id\": 85, \"label\": \"Coffee\", \"group\": \"Drink\", \"title\": \"Node('Drink', name='Coffee')\"}, {\"id\": 102, \"label\": \"Norwegian\", \"group\": \"Person\", \"title\": \"Node('Person', name='Norwegian')\"}, {\"id\": 43, \"label\": \"Cat\", \"group\": \"Pet\", \"title\": \"Node('Pet', name='Cat')\"}, {\"id\": 113, \"label\": \"Durnhill\", \"group\": \"Tobacco\", \"title\": \"Node('Tobacco', name='Durnhill')\"}, {\"id\": 88, \"label\": \"Water\", \"group\": \"Drink\", \"title\": \"Node('Drink', name='Water')\"}, {\"id\": 91, \"label\": \"Yellow_house\", \"group\": \"House\", \"title\": \"Node('House', name='Yellow_house', position='first')\"}, {\"id\": 93, \"label\": \"Blue_house\", \"group\": \"House\", \"title\": \"Node('House', name='Blue_house', position='second')\"}, {\"id\": 90, \"label\": \"White_house\", \"group\": \"House\", \"title\": \"Node('House', name='White_house', position='fifth')\"}, {\"id\": 87, \"label\": \"Beer\", \"group\": \"Drink\", \"title\": \"Node('Drink', name='Beer')\"}, {\"id\": 103, \"label\": \"Swede\", \"group\": \"Person\", \"title\": \"Node('Person', name='Swede')\"}, {\"id\": 112, \"label\": \"Bluemaster\", \"group\": \"Tobacco\", \"title\": \"Node('Tobacco', name='Bluemaster')\"}, {\"id\": 44, \"label\": \"Horse\", \"group\": \"Pet\", \"title\": \"Node('Pet', name='Horse')\"}, {\"id\": 86, \"label\": \"Tea\", \"group\": \"Drink\", \"title\": \"Node('Drink', name='Tea')\"}, {\"id\": 100, \"label\": \"Dane\", \"group\": \"Person\", \"title\": \"Node('Person', name='Dane')\"}, {\"id\": 111, \"label\": \"Blends\", \"group\": \"Tobacco\", \"title\": \"Node('Tobacco', name='Blends')\"}, {\"id\": 92, \"label\": \"Red_house\", \"group\": \"House\", \"title\": \"Node('House', name='Red_house', position='third')\"}, {\"id\": 84, \"label\": \"Milk\", \"group\": \"Drink\", \"title\": \"Node('Drink', name='Milk')\"}, {\"id\": 99, \"label\": \"Englishman\", \"group\": \"Person\", \"title\": \"Node('Person', name='Englishman')\"}];\n",
       "    var edges = [{\"from\": 110, \"to\": 42, \"label\": \"SAME PERSON LINKED\"}, {\"from\": 101, \"to\": 41, \"label\": \"HAS\"}, {\"from\": 101, \"to\": 89, \"label\": \"LIVES\"}, {\"from\": 101, \"to\": 85, \"label\": \"DRINKS\"}, {\"from\": 101, \"to\": 109, \"label\": \"SMOKES\"}, {\"from\": 102, \"to\": 43, \"label\": \"HAS\"}, {\"from\": 102, \"to\": 113, \"label\": \"SMOKES\"}, {\"from\": 102, \"to\": 88, \"label\": \"DRINKS\"}, {\"from\": 102, \"to\": 91, \"label\": \"LIVES\"}, {\"from\": 89, \"to\": 90, \"label\": \"IS TO THE LEFT\"}, {\"from\": 89, \"to\": 85, \"label\": \"SAME PERSON LINKED\"}, {\"from\": 103, \"to\": 87, \"label\": \"DRINKS\"}, {\"from\": 103, \"to\": 90, \"label\": \"LIVES\"}, {\"from\": 103, \"to\": 112, \"label\": \"SMOKES\"}, {\"from\": 103, \"to\": 40, \"label\": \"HAS\"}, {\"from\": 44, \"to\": 113, \"label\": \"LIVES NEXT DOOR THE SMOKER\"}, {\"from\": 100, \"to\": 111, \"label\": \"SMOKES\"}, {\"from\": 100, \"to\": 44, \"label\": \"HAS\"}, {\"from\": 100, \"to\": 93, \"label\": \"LIVES\"}, {\"from\": 100, \"to\": 86, \"label\": \"DRINKS\"}, {\"from\": 112, \"to\": 87, \"label\": \"SAME PERSON LINKED\"}, {\"from\": 92, \"to\": 84, \"label\": \"SAME PERSON LINKED\"}, {\"from\": 91, \"to\": 113, \"label\": \"SAME PERSON LINKED\"}, {\"from\": 111, \"to\": 43, \"label\": \"SMOKER LIVES NEXT DOOR\"}, {\"from\": 111, \"to\": 88, \"label\": \"USED BY NEIGHBOR\"}, {\"from\": 99, \"to\": 42, \"label\": \"HAS\"}, {\"from\": 99, \"to\": 84, \"label\": \"DRINKS\"}, {\"from\": 99, \"to\": 110, \"label\": \"SMOKES\"}, {\"from\": 99, \"to\": 92, \"label\": \"LIVES\"}];\n",
       "\n",
       "    var container = document.getElementById(\"7d39b48b-2a83-4698-87a2-11695c075396\");\n",
       "\n",
       "    var data = {\n",
       "        nodes: nodes,\n",
       "        edges: edges\n",
       "    };\n",
       "\n",
       "    var options = {\n",
       "    nodes: {\n",
       "        shape: 'dot',\n",
       "        size: 25,\n",
       "        font: {\n",
       "            size: 14\n",
       "        }\n",
       "    },\n",
       "    edges: {\n",
       "        font: {\n",
       "            size: 14,\n",
       "            align: 'middle'\n",
       "        },\n",
       "        color: 'gray',\n",
       "        arrows: {\n",
       "            to: {\n",
       "                enabled: true,\n",
       "                scaleFactor: 0.5\n",
       "            }\n",
       "        },\n",
       "        smooth: {\n",
       "            enabled: false\n",
       "        }\n",
       "    },\n",
       "    physics: {\n",
       "        enabled: true\n",
       "        }\n",
       "    };\n",
       "\n",
       "    var network = new vis.Network(container, data, options);\n",
       "\n",
       "</script>\n"
      ],
      "text/plain": [
       "<IPython.core.display.HTML object>"
      ]
     },
     "execution_count": 77,
     "metadata": {},
     "output_type": "execute_result"
    }
   ],
   "source": [
    "neo4jupyter.draw(graph, options)"
   ]
  },
  {
   "cell_type": "markdown",
   "metadata": {},
   "source": [
    "-\n",
    "-\n",
    "-\n",
    "-\n",
    "-\n",
    "-\n",
    "-\n",
    "-\n",
    "-\n",
    "-\n",
    "-\n",
    "-\n",
    "-\n",
    "-\n",
    "-\n",
    "-\n",
    "-\n",
    "-\n",
    "-\n",
    "-\n",
    "-\n",
    "-\n",
    "-\n",
    "-\n",
    "-\n",
    "-\n",
    "-\n",
    "-\n",
    "-\n",
    "-\n",
    "-\n",
    "-\n",
    "-\n",
    "-\n",
    "-\n",
    "-"
   ]
  },
  {
   "cell_type": "markdown",
   "metadata": {
    "jp-MarkdownHeadingCollapsed": true,
    "tags": []
   },
   "source": [
    "Antonio García\n",
    "\n",
    "GitHub: https://github.com/agarca4\n",
    "\n",
    "GitLab: https://git.institutomilitar.com/agarca4"
   ]
  }
 ],
 "metadata": {
  "kernelspec": {
   "display_name": "Python 3 (ipykernel)",
   "language": "python",
   "name": "python3"
  },
  "language_info": {
   "codemirror_mode": {
    "name": "ipython",
    "version": 3
   },
   "file_extension": ".py",
   "mimetype": "text/x-python",
   "name": "python",
   "nbconvert_exporter": "python",
   "pygments_lexer": "ipython3",
   "version": "3.8.10"
  }
 },
 "nbformat": 4,
 "nbformat_minor": 4
}
